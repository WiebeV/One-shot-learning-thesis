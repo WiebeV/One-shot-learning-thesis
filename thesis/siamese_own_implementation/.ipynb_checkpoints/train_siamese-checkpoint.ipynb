{
 "cells": [
  {
   "cell_type": "markdown",
   "metadata": {},
   "source": [
    "# Siamese network training\n",
    "This notebooks lets you train a siamese network (triplet network). It creates required triplets and creates the model for training.\n",
    "Based on https://software.intel.com/en-us/articles/keras-implementation-of-siamese-like-networks"
   ]
  },
  {
   "cell_type": "code",
   "execution_count": 1,
   "metadata": {},
   "outputs": [
    {
     "name": "stderr",
     "output_type": "stream",
     "text": [
      "Using TensorFlow backend.\n"
     ]
    }
   ],
   "source": [
    "from __future__ import division, print_function\n",
    "\n",
    "import pickle\n",
    "import random\n",
    "from random import shuffle\n",
    "import matplotlib.pyplot as plt\n",
    "import numpy as np\n",
    "import os\n",
    "from tqdm import tqdm_notebook as tqdm\n",
    "\n",
    "import cv2\n",
    "from keras import backend as K\n",
    "from keras.layers import Conv2D, MaxPooling2D\n",
    "from keras.optimizers import Adam\n",
    "from keras.preprocessing.image import img_to_array\n",
    "from keras.layers import Input\n",
    "from keras.layers.core import Dense, Flatten, Lambda\n",
    "from keras.models import Model\n",
    "\n",
    "% matplotlib inline"
   ]
  },
  {
   "cell_type": "markdown",
   "metadata": {},
   "source": [
    "# Triplets generator\n",
    "The first section of this notebooks scans all folders for labels. Each .txt file is opened and all labels are saved. Depending on the function all labels are saved or one of the labels are saved.\n",
    "For the triplets, these are generated in the following way:\n",
    "- 1 class is selected\n",
    "- From this class, 2 random images are selected as positive image pair\n",
    "- The third image is taken from a random different class and a random image from this class\n",
    "\n",
    "To reduce the number of triplets, these are limited to a maximum of 50,000 per image class."
   ]
  },
  {
   "cell_type": "code",
   "execution_count": 37,
   "metadata": {},
   "outputs": [],
   "source": [
    "DATA_DIR = [\"DATADIR\"]\n",
    "all_dirs = [\"ADD IMAGE DIRS\"]"
   ]
  },
  {
   "cell_type": "code",
   "execution_count": 61,
   "metadata": {},
   "outputs": [],
   "source": [
    "def useFilesWithLabel():\n",
    "    \"\"\"This function reads all files with a label. If a multi label exists, it selects one random label\n",
    "    from the set and assigns it to the image\"\"\"\n",
    "\n",
    "    label_list = []\n",
    "    try:\n",
    "        labels\n",
    "    except:\n",
    "        labels = {}\n",
    "    for directory in all_dirs:\n",
    "        IMAGE_DIR = os.path.join(DATA_DIR, directory)\n",
    "        file_list= os.listdir(IMAGE_DIR)\n",
    "        for txt in file_list:\n",
    "            if txt.endswith('.txt'):\n",
    "                label_list.append(IMAGE_DIR + txt)\n",
    "        for i, _file in tqdm(enumerate(label_list)):\n",
    "            y=[]\n",
    "            with open(label_list[i]) as f:\n",
    "                for lines in f:\n",
    "                    try:\n",
    "                        w = [float(x) for x in lines.split()]\n",
    "                        if int(w[0]) not in y:\n",
    "                            y.append(int(w[0]))\n",
    "\n",
    "                    except:\n",
    "                        pass\n",
    "                labels[_file.split('.')[0]]=list(np.random.choice(y,1))[0]\n",
    "                except:\n",
    "                    pass\n",
    "        with open('file_with_labels', 'wb') as f:\n",
    "            pickle.dump(labels, f)\n",
    "        label_list = []\n",
    "    return labels"
   ]
  },
  {
   "cell_type": "code",
   "execution_count": 62,
   "metadata": {},
   "outputs": [
    {
     "data": {
      "application/vnd.jupyter.widget-view+json": {
       "model_id": "5fd185db4c4a42d184e26cec35e841cd",
       "version_major": 2,
       "version_minor": 0
      },
      "text/plain": [
       "HBox(children=(IntProgress(value=1, bar_style='info', max=1), HTML(value='')))"
      ]
     },
     "metadata": {},
     "output_type": "display_data"
    },
    {
     "name": "stdout",
     "output_type": "stream",
     "text": [
      "\n"
     ]
    }
   ],
   "source": [
    "labels = useFilesWithLabel()"
   ]
  },
  {
   "cell_type": "code",
   "execution_count": 45,
   "metadata": {
    "scrolled": true
   },
   "outputs": [
    {
     "name": "stdout",
     "output_type": "stream",
     "text": [
      "Done with creating labels, now making triplets!\n"
     ]
    },
    {
     "data": {
      "application/vnd.jupyter.widget-view+json": {
       "model_id": "6eaef0a708dc40a88d181cb05ff3e940",
       "version_major": 2,
       "version_minor": 0
      },
      "text/plain": [
       "HBox(children=(IntProgress(value=0, max=16), HTML(value='')))"
      ]
     },
     "metadata": {},
     "output_type": "display_data"
    },
    {
     "name": "stdout",
     "output_type": "stream",
     "text": [
      "[1, 2, 3, 4, 5, 6, 7, 8, 9, 10, 18, 19, 22, 24, 25] 1\n",
      "[0, 2, 3, 4, 5, 6, 7, 8, 9, 10, 18, 19, 22, 24, 25] 7\n",
      "[0, 1, 3, 4, 5, 6, 7, 8, 9, 10, 18, 19, 22, 24, 25] 18\n",
      "[0, 1, 2, 4, 5, 6, 7, 8, 9, 10, 18, 19, 22, 24, 25] 9\n",
      "[0, 1, 2, 3, 5, 6, 7, 8, 9, 10, 18, 19, 22, 24, 25] 9\n",
      "[0, 1, 2, 3, 4, 6, 7, 8, 9, 10, 18, 19, 22, 24, 25] 18\n",
      "[0, 1, 2, 3, 4, 5, 7, 8, 9, 10, 18, 19, 22, 24, 25] 25\n",
      "[0, 1, 2, 3, 4, 5, 6, 8, 9, 10, 18, 19, 22, 24, 25] 6\n",
      "[0, 1, 2, 3, 4, 5, 6, 7, 8, 9, 10, 19, 22, 24, 25] 8\n",
      "[0, 1, 2, 3, 4, 5, 6, 7, 8, 9, 10, 18, 19, 22, 25] 0\n",
      "\n",
      "# image triples: 454465\n"
     ]
    }
   ],
   "source": [
    "with open('/home/deeplearning/blob_storage/Classifier1/file_with_labels', 'rb') as f:\n",
    "    labels = pickle.load(f)\n",
    "print('Done with creating labels, now making triplets!')\n",
    "triples_data = create_triples_v2(IMAGE_DIR)\n",
    "\n",
    "print(\"# image triples:\", len(triples_data))\n",
    "[x for x in triples_data[0:5]]\n",
    "\n",
    "with open('triplets', 'wb') as f:\n",
    "    pickle.dump(triples_data, f)"
   ]
  },
  {
   "cell_type": "code",
   "execution_count": 4,
   "metadata": {},
   "outputs": [],
   "source": [
    "with open('triplets', 'rb') as f:\n",
    "    triples_data= pickle.load(f)"
   ]
  },
  {
   "cell_type": "code",
   "execution_count": 5,
   "metadata": {},
   "outputs": [],
   "source": [
    "import math\n",
    "\n",
    "def nCr(n,r):\n",
    "    \"\"\"Calculates number of possible triplets\"\"\"\n",
    "    f = math.factorial\n",
    "    return f(n) // f(r) // f(n-r)\n",
    "\n",
    "def pair_generator(numbers):\n",
    "    \"\"\"Return an iterator of random pairs from a list of numbers.\"\"\"\n",
    "  # Keep track of already generated pairs\n",
    "    used_pairs = set()\n",
    " \n",
    "    while True:\n",
    "        pair = random.sample(numbers, 2)\n",
    "        # Avoid generating both (1, 2) and (2, 1)\n",
    "        pair = tuple(sorted(pair))\n",
    "        if pair not in used_pairs:\n",
    "            used_pairs.add(pair)\n",
    "            yield pair\n",
    "        \n",
    "def get_random_image(img_groups, group_names, gid):\n",
    "    \"\"\"Selects random image which is not equal to anchor image\"\"\"\n",
    "    gname = group_names[group_names.index(gid)]\n",
    "    photos = img_groups[gname]\n",
    "    pid = np.random.choice(np.arange(len(photos)), replace=False, size=1)[0]\n",
    "    pname = photos[pid]\n",
    "    #pname = check_file_name(pname)\n",
    "    return pname + '.jpg'\n",
    "\n",
    "def get_2_random_images(img_groups, group_names, gid):\n",
    "    \"\"\"Selects 2 random photos from the same class (positive pair)\"\"\"\n",
    "    gname = group_names[gid]\n",
    "    photos = img_groups[gname]\n",
    "    pid, pid1 = np.random.choice(np.arange(len(photos)), size=1)[0]\n",
    "    pname = photos[pid]\n",
    "    pname1 = photos[pid1]\n",
    "    return pname + \".jpg\", pname1 + \".jpg\"\n",
    "\n",
    "def check_file_name(img_path):\n",
    "    \"\"\"Repairs extension of filename\"\"\"\n",
    "    img_path = img_path[:-4]\n",
    "    if os.path.exists(img_path +'.JPG'):\n",
    "        return img_path +'.JPG'\n",
    "    if os.path.exists(img_path +'.jpeg'):\n",
    "        return img_path +'.jpeg'\n",
    "    if os.path.exists(img_path +'.JPEG'):\n",
    "        return img_path +'.JPEG'\n",
    "    if os.path.exists(img_path +'.png'):\n",
    "        return img_path +'.png'\n",
    "    if os.path.exists(img_path +'.PNG'):\n",
    "        return img_path +'.PNG'\n",
    "    if os.path.exists(img_path +'.gif'):\n",
    "        return img_path +'.gif'\n",
    "    if os.path.exists(img_path +'.GIF'):\n",
    "        return img_path +'.GIF'\n",
    "    if os.path.exists(img_path +'.bmp'):\n",
    "        return img_path +'.bmp'\n",
    "    if os.path.exists(img_path +'.BMP'):\n",
    "        return img_path +'.BMP'\n",
    "    else:\n",
    "        return img_path\n",
    "     \n",
    "def create_triples_v2(image_dir):\n",
    "    \"\"\"Creates triplets for training\"\"\"\n",
    "    img_groups = {}\n",
    "    for prefix in labels.keys():\n",
    "        #prefix, suffix = img_file.split(\".\")\n",
    "        gid = labels[prefix] \n",
    "        if gid in img_groups:\n",
    "            img_groups[gid].append(prefix)\n",
    "        else:\n",
    "            img_groups[gid] = [prefix]\n",
    "    pos_triples, neg_triples = [], []\n",
    "    # neg triples are obsolete. Full triplet in pos_triples\n",
    "    for key in tqdm(img_groups.keys()):\n",
    "        if len(img_groups[key]) < 50:\n",
    "            continue\n",
    "        group_names_copy = img_groups.copy()\n",
    "        group_names_copy = list(group_names_copy.keys())\n",
    "        group_names_copy.remove(key)\n",
    "        # Selects random image class other than positive pair class\n",
    "        g1 =np.random.choice(group_names_copy, size=1, replace=False)[0] # This function has to be changed to create hardpairs\n",
    "        print(group_names_copy,g1)\n",
    "        gen = pair_generator(img_groups[key])\n",
    "        triples = []\n",
    "        tot_iter = min(nCr(len(img_groups[key]),2),50000)\n",
    "        for i in range(tot_iter):\n",
    "            pair = list(next(gen))\n",
    "            # Take two images from same class and then one third item from a random class\n",
    "            pair[0] = pair[0] + '.jpg'\n",
    "            pair[1] = pair[1] + '.jpg'\n",
    "            third_item = get_random_image(img_groups, group_names_copy, g1)\n",
    "            pair.append(third_item)\n",
    "            pair = tuple(pair)\n",
    "            triples.append(pair)\n",
    "        pos_triples.extend(triples)\n",
    "    shuffle(pos_triples)\n",
    "    return pos_triples"
   ]
  },
  {
   "cell_type": "code",
   "execution_count": null,
   "metadata": {},
   "outputs": [],
   "source": [
    "#labels = useFilesWithLabel()\n",
    "with open('file_with_labels_update', 'wb') as f:\n",
    "    pickle.dump(labels, f)\n",
    "print('Done with creating labels, now making triplets!')\n",
    "triples_data = create_triples_v2(IMAGE_DIR)\n",
    "\n",
    "print(\"# image triples:\", len(triples_data))\n",
    "[x for x in triples_data[0:5]]\n",
    "\n",
    "with open('triplets', 'wb') as f:\n",
    "    pickle.dump(triples_data, f)"
   ]
  },
  {
   "cell_type": "code",
   "execution_count": 233,
   "metadata": {},
   "outputs": [],
   "source": [
    "import pickle\n",
    "with open('triplets_sampled', 'wb') as f:\n",
    "    pickle.dump(triples_data, f)"
   ]
  },
  {
   "cell_type": "markdown",
   "metadata": {},
   "source": [
    "# Training stage\n",
    "For training, an input size of 128\\*128 is used. For further research we propose to increase this to 448\\*448 pixels since more information can be embedded and multi-scale networks can be used.\n",
    "\n",
    "A train-test split is made of the triplets. With the use of a generator, batches of triplets are loaded for training.\n",
    "\n",
    "The model functions as follows. First via CNN layers each image is encoded and its features are extracted. Then the distance between each encoding is compared via the triplet loss function. The goal of this loss function is to minimise the distance between positive pairs (equal pairs) and maximise between negative pairs (non-equal pairs). "
   ]
  },
  {
   "cell_type": "code",
   "execution_count": 32,
   "metadata": {},
   "outputs": [],
   "source": [
    "def load_image(image_name):\n",
    "    \"\"\"Reads an image and if image doesn't open, checks extension. For improved version the right\n",
    "    extension should be assigned in the triplet creation function. For error prevention an except is added.\"\"\"\n",
    "    if image_name not in image_cache:\n",
    "        image = cv2.imread(image_name)\n",
    "        if image is None:\n",
    "            image_name = check_file_name(image_name)\n",
    "            image = cv2.imread(image_name)\n",
    "        try:\n",
    "            image = cv2.resize(image, (128, 128))\n",
    "            image = img_to_array(image)\n",
    "            image = image.astype('float32')\n",
    "            image = image/255\n",
    "            image_cache[image_name] = image\n",
    "        except:\n",
    "            print(image_name)\n",
    "            return np.zeros((128,128,3))\n",
    "    return image_cache[image_name]    "
   ]
  },
  {
   "cell_type": "code",
   "execution_count": 102,
   "metadata": {},
   "outputs": [],
   "source": [
    "BATCH_SIZE = 64\n",
    "\n",
    "split_point = int(len(triples_data) * 0.7)\n",
    "triples_train, triples_test = triples_data[0:split_point], triples_data[split_point:]"
   ]
  },
  {
   "cell_type": "code",
   "execution_count": 8,
   "metadata": {},
   "outputs": [],
   "source": [
    "def generate_image_triples_batch_v2(image_triples, batch_size, shuffle=False):\n",
    "    \"\"\"This function yields triplets for the network.\"\"\"\n",
    "    while True:\n",
    "        # loop once per epoch\n",
    "        if shuffle:\n",
    "            indices = np.random.permutation(np.arange(len(image_triples)))\n",
    "        else:\n",
    "            indices = np.arange(len(image_triples))\n",
    "        shuffled_triples = [image_triples[ix] for ix in indices]\n",
    "        num_batches = len(shuffled_triples) // batch_size\n",
    "        for bid in range(num_batches):\n",
    "            # loop once per batch\n",
    "            image_anchor, images_left, images_right = [], [], []\n",
    "            batch = shuffled_triples[bid * batch_size : (bid + 1) * batch_size]\n",
    "            for i in range(batch_size):\n",
    "                anchor, lhs, rhs = batch[i]\n",
    "                image_anchor.append(load_image(anchor))\n",
    "                images_left.append(load_image(lhs))\n",
    "                images_right.append(load_image(rhs))\n",
    "            Xlhs = np.array(images_left)\n",
    "            Xrhs = np.array(images_right)\n",
    "            Xanch = np.array(image_anchor)\n",
    "            label = None # hotfix due to limitations of KERAS\n",
    "            yield ([Xanch, Xlhs, Xrhs], None)"
   ]
  },
  {
   "cell_type": "code",
   "execution_count": 103,
   "metadata": {},
   "outputs": [],
   "source": [
    "NUM_EPOCHS = 50\n",
    "\n",
    "image_cache = {}\n",
    "train_gen = generate_image_triples_batch_v2(triples_train, BATCH_SIZE, shuffle=True)\n",
    "val_gen = generate_image_triples_batch_v2(triples_test, BATCH_SIZE, shuffle=False)\n",
    "\n",
    "num_train_steps = len(triples_train) // BATCH_SIZE\n",
    "num_val_steps = len(triples_test) // BATCH_SIZE"
   ]
  },
  {
   "cell_type": "code",
   "execution_count": 10,
   "metadata": {},
   "outputs": [],
   "source": [
    "def triplet_loss(inputs, dist='sqeuclidean', margin='maxplus'):\n",
    "    anchor, positive, negative = inputs\n",
    "    positive_distance = K.square(anchor - positive)\n",
    "    negative_distance = K.square(anchor - negative)\n",
    "    if dist == 'euclidean':\n",
    "        positive_distance = K.sqrt(K.sum(positive_distance, axis=-1, keepdims=True))\n",
    "        negative_distance = K.sqrt(K.sum(negative_distance, axis=-1, keepdims=True))\n",
    "    elif dist == 'sqeuclidean':\n",
    "        positive_distance = K.sum(positive_distance, axis=-1, keepdims=True)\n",
    "        negative_distance = K.sum(negative_distance, axis=-1, keepdims=True)\n",
    "    loss = positive_distance - negative_distance\n",
    "    if margin == 'maxplus':\n",
    "        loss = K.maximum(0.0, 1 + loss)\n",
    "    elif margin == 'softplus':\n",
    "        loss = K.log(1 + K.exp(loss))\n",
    "    elif type(margin) == float:\n",
    "        loss = K.maximum(0.0, margin + loss)\n",
    "    return K.mean(loss)"
   ]
  },
  {
   "cell_type": "code",
   "execution_count": 121,
   "metadata": {},
   "outputs": [],
   "source": [
    "def create_base_model(input_shape):\n",
    "    inputs = Input(shape=input_shape)\n",
    "    x = Conv2D(kernel_size = (5,5), filters = 20, activation = 'relu')(inputs)\n",
    "    x = MaxPooling2D((2,2))(x)\n",
    "    x = Conv2D(kernel_size = (5,5), filters =  25, activation = 'relu')(x)\n",
    "    x = MaxPooling2D((2,2))(x)\n",
    "    flatten = Flatten()(x)\n",
    "    fc = Dense(512, activation='relu')(flatten) # Size can be changed or left out. For t-SNE should be left out\n",
    "    normalized = Lambda(lambda  x: K.l2_normalize(x,axis=1))(fc)\n",
    "    base_model = Model(inputs, normalized, name=\"base_model\")\n",
    "\n",
    "    return base_model"
   ]
  },
  {
   "cell_type": "code",
   "execution_count": 122,
   "metadata": {},
   "outputs": [
    {
     "name": "stdout",
     "output_type": "stream",
     "text": [
      "_________________________________________________________________\n",
      "Layer (type)                 Output Shape              Param #   \n",
      "=================================================================\n",
      "input_18 (InputLayer)        (None, 128, 128, 3)       0         \n",
      "_________________________________________________________________\n",
      "conv2d_17 (Conv2D)           (None, 124, 124, 20)      1520      \n",
      "_________________________________________________________________\n",
      "max_pooling2d_17 (MaxPooling (None, 62, 62, 20)        0         \n",
      "_________________________________________________________________\n",
      "conv2d_18 (Conv2D)           (None, 58, 58, 25)        12525     \n",
      "_________________________________________________________________\n",
      "max_pooling2d_18 (MaxPooling (None, 29, 29, 25)        0         \n",
      "_________________________________________________________________\n",
      "flatten_9 (Flatten)          (None, 21025)             0         \n",
      "_________________________________________________________________\n",
      "dense_6 (Dense)              (None, 512)               10765312  \n",
      "_________________________________________________________________\n",
      "lambda_9 (Lambda)            (None, 512)               0         \n",
      "=================================================================\n",
      "Total params: 10,779,357\n",
      "Trainable params: 10,779,357\n",
      "Non-trainable params: 0\n",
      "_________________________________________________________________\n"
     ]
    }
   ],
   "source": [
    "model = create_base_model((128,128,3))\n",
    "model.summary()\n",
    "from keras.utils import plot_model\n",
    "#plot_model(model, to_file='model_triplet.png', show_layer_names=False)"
   ]
  },
  {
   "cell_type": "code",
   "execution_count": 123,
   "metadata": {},
   "outputs": [],
   "source": [
    "batch_size =64\n",
    "embedding_dim=5\n",
    "A = np.ones([batch_size,embedding_dim])\n",
    "A /= embedding_dim\n",
    "A = K.variable(A)\n",
    "\n",
    "SIZE = 128\n",
    "input_shape = (SIZE, SIZE, 3)\n",
    "\n",
    "base_network = create_base_model(input_shape)\n",
    "def identity_loss(y_true, y_pred): # Probably obsolete\n",
    "    return K.mean(y_pred - 0 * y_true)\n",
    "\n",
    "\n",
    "input_a = Input(shape=input_shape)\n",
    "input_b = Input(shape=input_shape)\n",
    "input_c = Input(shape=input_shape)\n",
    "\n",
    "base_network = create_base_model(input_shape)\n",
    "# because we re-use the same instance `base_network`,\n",
    "# the weights of the network\n",
    "# will be shared across the two branches\n",
    "processed_a = base_network(input_a)\n",
    "processed_b = base_network(input_b)\n",
    "processed_c = base_network(input_c)\n",
    "\n",
    "model = Model([input_a, input_b, input_c], outputs= [processed_a, processed_b, processed_c])\n",
    "model.add_loss(K.mean(triplet_loss([processed_a, processed_b, processed_c], margin = 'maxplus')))\n",
    "model.compile(loss=None, optimizer= Adam(0.003))"
   ]
  },
  {
   "cell_type": "code",
   "execution_count": 126,
   "metadata": {},
   "outputs": [
    {
     "name": "stdout",
     "output_type": "stream",
     "text": [
      "__________________________________________________________________________________________________\n",
      "Layer (type)                    Output Shape         Param #     Connected to                     \n",
      "==================================================================================================\n",
      "input_20 (InputLayer)           (None, 128, 128, 3)  0                                            \n",
      "__________________________________________________________________________________________________\n",
      "input_21 (InputLayer)           (None, 128, 128, 3)  0                                            \n",
      "__________________________________________________________________________________________________\n",
      "input_22 (InputLayer)           (None, 128, 128, 3)  0                                            \n",
      "__________________________________________________________________________________________________\n",
      "base_model (Model)              (None, 512)          10779357    input_20[0][0]                   \n",
      "                                                                 input_21[0][0]                   \n",
      "                                                                 input_22[0][0]                   \n",
      "==================================================================================================\n",
      "Total params: 10,779,357\n",
      "Trainable params: 10,779,357\n",
      "Non-trainable params: 0\n",
      "__________________________________________________________________________________________________\n"
     ]
    }
   ],
   "source": [
    "model.summary()\n",
    "#model.compile(loss = triplet_loss,  optimizer = Adam(lr = 0.001, decay = 1e-6))"
   ]
  },
  {
   "cell_type": "code",
   "execution_count": 17,
   "metadata": {},
   "outputs": [],
   "source": [
    "from keras.callbacks import ModelCheckpoint"
   ]
  },
  {
   "cell_type": "code",
   "execution_count": null,
   "metadata": {},
   "outputs": [],
   "source": [
    "dataset = 'DATASET FOLDER'\n",
    "if not os.path.exists('/home/deeplearning/blob_storage/Classifier1/trained_models/' + dataset):\n",
    "    os.makedirs('/home/deeplearning/blob_storage/Classifier1/trained_models/' + dataset)\n",
    "save_epochs = ModelCheckpoint('/home/deeplearning/blob_storage/Classifier1/trained_models/'+ dataset + 'siamese_128_lr_0.003_FC512_marg1_batch64_ep{epoch:02d}-{val_loss:.3f}.h5', monitor='val_loss', verbose=0, save_best_only=False, save_weights_only=False, mode='auto', period=1)\n",
    "save_epochs.filepath\n"
   ]
  },
  {
   "cell_type": "code",
   "execution_count": null,
   "metadata": {
    "scrolled": true
   },
   "outputs": [],
   "source": [
    "#from keras.models import load_weights\n",
    "prev_model = 'siamese_128_lr_0.003_FC_marg1_batch64_ep31-0.296.h5'\n",
    "# prev_model = 'siamese_128_batch64_ep06-0.15.h5'\n",
    "model.load_weights('/home/deeplearning/blob_storage/Classifier1/trained_models/'+ dataset + prev_model)\n",
    "# model.add_loss(K.mean(triplet_loss([processed_a, processed_b, processed_c], margin = 'maxplus')))\n",
    "# model.compile(loss=None, optimizer= Adam(0.00003))"
   ]
  },
  {
   "cell_type": "code",
   "execution_count": 110,
   "metadata": {},
   "outputs": [
    {
     "name": "stdout",
     "output_type": "stream",
     "text": [
      "__________________________________________________________________________________________________\n",
      "Layer (type)                    Output Shape         Param #     Connected to                     \n",
      "==================================================================================================\n",
      "input_8 (InputLayer)            (None, 128, 128, 3)  0                                            \n",
      "__________________________________________________________________________________________________\n",
      "input_9 (InputLayer)            (None, 128, 128, 3)  0                                            \n",
      "__________________________________________________________________________________________________\n",
      "input_10 (InputLayer)           (None, 128, 128, 3)  0                                            \n",
      "__________________________________________________________________________________________________\n",
      "base_model (Model)              (None, 128)          2705373     input_8[0][0]                    \n",
      "                                                                 input_9[0][0]                    \n",
      "                                                                 input_10[0][0]                   \n",
      "==================================================================================================\n",
      "Total params: 2,705,373\n",
      "Trainable params: 2,705,373\n",
      "Non-trainable params: 0\n",
      "__________________________________________________________________________________________________\n"
     ]
    }
   ],
   "source": [
    "model.summary()"
   ]
  },
  {
   "cell_type": "code",
   "execution_count": 21,
   "metadata": {},
   "outputs": [],
   "source": [
    "from keras.utils import plot_model\n",
    "#plot_model(model, to_file='model.png')"
   ]
  },
  {
   "cell_type": "code",
   "execution_count": 23,
   "metadata": {},
   "outputs": [],
   "source": [
    "# plot_model(model, to_file='model.png')"
   ]
  },
  {
   "cell_type": "code",
   "execution_count": null,
   "metadata": {},
   "outputs": [
    {
     "name": "stdout",
     "output_type": "stream",
     "text": [
      "Epoch 1/50\n",
      "3988/4970 [=======================>......] - ETA: 2:16 - loss: 0.2018"
     ]
    },
    {
     "name": "stderr",
     "output_type": "stream",
     "text": [
      "IOPub message rate exceeded.\n",
      "The notebook server will temporarily stop sending output\n",
      "to the client in order to avoid crashing it.\n",
      "To change this limit, set the config variable\n",
      "`--NotebookApp.iopub_msg_rate_limit`.\n",
      "\n",
      "Current values:\n",
      "NotebookApp.iopub_msg_rate_limit=1000.0 (msgs/sec)\n",
      "NotebookApp.rate_limit_window=3.0 (secs)\n",
      "\n"
     ]
    },
    {
     "name": "stdout",
     "output_type": "stream",
     "text": [
      "4970/4970 [==============================] - 813s 164ms/step - loss: 0.1556 - val_loss: 0.1521\n",
      "Epoch 3/50\n",
      "2919/4970 [================>.............] - ETA: 4:45 - loss: 0.1340"
     ]
    },
    {
     "name": "stderr",
     "output_type": "stream",
     "text": [
      "IOPub message rate exceeded.\n",
      "The notebook server will temporarily stop sending output\n",
      "to the client in order to avoid crashing it.\n",
      "To change this limit, set the config variable\n",
      "`--NotebookApp.iopub_msg_rate_limit`.\n",
      "\n",
      "Current values:\n",
      "NotebookApp.iopub_msg_rate_limit=1000.0 (msgs/sec)\n",
      "NotebookApp.rate_limit_window=3.0 (secs)\n",
      "\n"
     ]
    },
    {
     "name": "stdout",
     "output_type": "stream",
     "text": [
      "4970/4970 [==============================] - 812s 163ms/step - loss: 0.1098 - val_loss: 0.1209\n",
      "Epoch 5/50\n",
      "1670/4970 [=========>....................] - ETA: 7:39 - loss: 0.0937"
     ]
    },
    {
     "name": "stderr",
     "output_type": "stream",
     "text": [
      "IOPub message rate exceeded.\n",
      "The notebook server will temporarily stop sending output\n",
      "to the client in order to avoid crashing it.\n",
      "To change this limit, set the config variable\n",
      "`--NotebookApp.iopub_msg_rate_limit`.\n",
      "\n",
      "Current values:\n",
      "NotebookApp.iopub_msg_rate_limit=1000.0 (msgs/sec)\n",
      "NotebookApp.rate_limit_window=3.0 (secs)\n",
      "\n"
     ]
    },
    {
     "name": "stdout",
     "output_type": "stream",
     "text": [
      "4970/4970 [==============================] - 809s 163ms/step - loss: 0.0817 - val_loss: 0.0988\n",
      "Epoch 7/50\n",
      " 156/4970 [..............................] - ETA: 11:07 - loss: 0.0698"
     ]
    },
    {
     "name": "stderr",
     "output_type": "stream",
     "text": [
      "IOPub message rate exceeded.\n",
      "The notebook server will temporarily stop sending output\n",
      "to the client in order to avoid crashing it.\n",
      "To change this limit, set the config variable\n",
      "`--NotebookApp.iopub_msg_rate_limit`.\n",
      "\n",
      "Current values:\n",
      "NotebookApp.iopub_msg_rate_limit=1000.0 (msgs/sec)\n",
      "NotebookApp.rate_limit_window=3.0 (secs)\n",
      "\n"
     ]
    },
    {
     "name": "stdout",
     "output_type": "stream",
     "text": [
      "3907/4970 [======================>.......] - ETA: 2:27 - loss: 0.0653"
     ]
    },
    {
     "name": "stderr",
     "output_type": "stream",
     "text": [
      "IOPub message rate exceeded.\n",
      "The notebook server will temporarily stop sending output\n",
      "to the client in order to avoid crashing it.\n",
      "To change this limit, set the config variable\n",
      "`--NotebookApp.iopub_msg_rate_limit`.\n",
      "\n",
      "Current values:\n",
      "NotebookApp.iopub_msg_rate_limit=1000.0 (msgs/sec)\n",
      "NotebookApp.rate_limit_window=3.0 (secs)\n",
      "\n"
     ]
    },
    {
     "name": "stdout",
     "output_type": "stream",
     "text": [
      "4970/4970 [==============================] - 812s 163ms/step - loss: 0.0604 - val_loss: 0.0857\n",
      "Epoch 10/50\n",
      "2386/4970 [=============>................] - ETA: 6:00 - loss: 0.0539"
     ]
    },
    {
     "name": "stderr",
     "output_type": "stream",
     "text": [
      "IOPub message rate exceeded.\n",
      "The notebook server will temporarily stop sending output\n",
      "to the client in order to avoid crashing it.\n",
      "To change this limit, set the config variable\n",
      "`--NotebookApp.iopub_msg_rate_limit`.\n",
      "\n",
      "Current values:\n",
      "NotebookApp.iopub_msg_rate_limit=1000.0 (msgs/sec)\n",
      "NotebookApp.rate_limit_window=3.0 (secs)\n",
      "\n"
     ]
    },
    {
     "name": "stdout",
     "output_type": "stream",
     "text": [
      "4970/4970 [==============================] - 814s 164ms/step - loss: 0.0519 - val_loss: 0.0749\n",
      "Epoch 12/50\n",
      "1020/4970 [=====>........................] - ETA: 9:10 - loss: 0.0456"
     ]
    },
    {
     "name": "stderr",
     "output_type": "stream",
     "text": [
      "IOPub message rate exceeded.\n",
      "The notebook server will temporarily stop sending output\n",
      "to the client in order to avoid crashing it.\n",
      "To change this limit, set the config variable\n",
      "`--NotebookApp.iopub_msg_rate_limit`.\n",
      "\n",
      "Current values:\n",
      "NotebookApp.iopub_msg_rate_limit=1000.0 (msgs/sec)\n",
      "NotebookApp.rate_limit_window=3.0 (secs)\n",
      "\n"
     ]
    },
    {
     "name": "stdout",
     "output_type": "stream",
     "text": [
      "4373/4970 [=========================>....] - ETA: 1:23 - loss: 0.0464"
     ]
    },
    {
     "name": "stderr",
     "output_type": "stream",
     "text": [
      "IOPub message rate exceeded.\n",
      "The notebook server will temporarily stop sending output\n",
      "to the client in order to avoid crashing it.\n",
      "To change this limit, set the config variable\n",
      "`--NotebookApp.iopub_msg_rate_limit`.\n",
      "\n",
      "Current values:\n",
      "NotebookApp.iopub_msg_rate_limit=1000.0 (msgs/sec)\n",
      "NotebookApp.rate_limit_window=3.0 (secs)\n",
      "\n"
     ]
    },
    {
     "name": "stdout",
     "output_type": "stream",
     "text": [
      "3034/4970 [=================>............] - ETA: 4:29 - loss: 0.0407"
     ]
    },
    {
     "name": "stderr",
     "output_type": "stream",
     "text": [
      "IOPub message rate exceeded.\n",
      "The notebook server will temporarily stop sending output\n",
      "to the client in order to avoid crashing it.\n",
      "To change this limit, set the config variable\n",
      "`--NotebookApp.iopub_msg_rate_limit`.\n",
      "\n",
      "Current values:\n",
      "NotebookApp.iopub_msg_rate_limit=1000.0 (msgs/sec)\n",
      "NotebookApp.rate_limit_window=3.0 (secs)\n",
      "\n"
     ]
    },
    {
     "name": "stdout",
     "output_type": "stream",
     "text": [
      "4970/4970 [==============================] - 812s 163ms/step - loss: 0.0395 - val_loss: 0.0655\n",
      "Epoch 17/50\n",
      "3982/4970 [=======================>......] - ETA: 2:17 - loss: 0.0378"
     ]
    },
    {
     "name": "stderr",
     "output_type": "stream",
     "text": [
      "IOPub message rate exceeded.\n",
      "The notebook server will temporarily stop sending output\n",
      "to the client in order to avoid crashing it.\n",
      "To change this limit, set the config variable\n",
      "`--NotebookApp.iopub_msg_rate_limit`.\n",
      "\n",
      "Current values:\n",
      "NotebookApp.iopub_msg_rate_limit=1000.0 (msgs/sec)\n",
      "NotebookApp.rate_limit_window=3.0 (secs)\n",
      "\n"
     ]
    },
    {
     "name": "stdout",
     "output_type": "stream",
     "text": [
      "4970/4970 [==============================] - 811s 163ms/step - loss: 0.0374 - val_loss: 0.0631\n",
      "Epoch 19/50\n",
      "2586/4970 [==============>...............] - ETA: 5:30 - loss: 0.0344"
     ]
    },
    {
     "name": "stderr",
     "output_type": "stream",
     "text": [
      "IOPub message rate exceeded.\n",
      "The notebook server will temporarily stop sending output\n",
      "to the client in order to avoid crashing it.\n",
      "To change this limit, set the config variable\n",
      "`--NotebookApp.iopub_msg_rate_limit`.\n",
      "\n",
      "Current values:\n",
      "NotebookApp.iopub_msg_rate_limit=1000.0 (msgs/sec)\n",
      "NotebookApp.rate_limit_window=3.0 (secs)\n",
      "\n"
     ]
    },
    {
     "name": "stdout",
     "output_type": "stream",
     "text": [
      "4970/4970 [==============================] - 812s 163ms/step - loss: 0.0349 - val_loss: 0.0609\n",
      "Epoch 21/50\n",
      "1436/4970 [=======>......................] - ETA: 8:14 - loss: 0.0317"
     ]
    },
    {
     "name": "stderr",
     "output_type": "stream",
     "text": [
      "IOPub message rate exceeded.\n",
      "The notebook server will temporarily stop sending output\n",
      "to the client in order to avoid crashing it.\n",
      "To change this limit, set the config variable\n",
      "`--NotebookApp.iopub_msg_rate_limit`.\n",
      "\n",
      "Current values:\n",
      "NotebookApp.iopub_msg_rate_limit=1000.0 (msgs/sec)\n",
      "NotebookApp.rate_limit_window=3.0 (secs)\n",
      "\n"
     ]
    },
    {
     "name": "stdout",
     "output_type": "stream",
     "text": [
      "4970/4970 [==============================] - 815s 164ms/step - loss: 0.0328 - val_loss: 0.0617\n",
      "Epoch 23/50\n",
      "  13/4970 [..............................] - ETA: 11:30 - loss: 0.0266"
     ]
    },
    {
     "name": "stderr",
     "output_type": "stream",
     "text": [
      "IOPub message rate exceeded.\n",
      "The notebook server will temporarily stop sending output\n",
      "to the client in order to avoid crashing it.\n",
      "To change this limit, set the config variable\n",
      "`--NotebookApp.iopub_msg_rate_limit`.\n",
      "\n",
      "Current values:\n",
      "NotebookApp.iopub_msg_rate_limit=1000.0 (msgs/sec)\n",
      "NotebookApp.rate_limit_window=3.0 (secs)\n",
      "\n"
     ]
    },
    {
     "name": "stdout",
     "output_type": "stream",
     "text": [
      "3855/4970 [======================>.......] - ETA: 2:35 - loss: 0.0309"
     ]
    },
    {
     "name": "stderr",
     "output_type": "stream",
     "text": [
      "IOPub message rate exceeded.\n",
      "The notebook server will temporarily stop sending output\n",
      "to the client in order to avoid crashing it.\n",
      "To change this limit, set the config variable\n",
      "`--NotebookApp.iopub_msg_rate_limit`.\n",
      "\n",
      "Current values:\n",
      "NotebookApp.iopub_msg_rate_limit=1000.0 (msgs/sec)\n",
      "NotebookApp.rate_limit_window=3.0 (secs)\n",
      "\n"
     ]
    },
    {
     "name": "stdout",
     "output_type": "stream",
     "text": [
      "4970/4970 [==============================] - 819s 165ms/step - loss: 0.0307 - val_loss: 0.0576\n",
      "Epoch 26/50\n",
      "2321/4970 [=============>................] - ETA: 6:09 - loss: 0.0287"
     ]
    },
    {
     "name": "stderr",
     "output_type": "stream",
     "text": [
      "IOPub message rate exceeded.\n",
      "The notebook server will temporarily stop sending output\n",
      "to the client in order to avoid crashing it.\n",
      "To change this limit, set the config variable\n",
      "`--NotebookApp.iopub_msg_rate_limit`.\n",
      "\n",
      "Current values:\n",
      "NotebookApp.iopub_msg_rate_limit=1000.0 (msgs/sec)\n",
      "NotebookApp.rate_limit_window=3.0 (secs)\n",
      "\n"
     ]
    },
    {
     "name": "stdout",
     "output_type": "stream",
     "text": [
      "4970/4970 [==============================] - 817s 164ms/step - loss: 0.0299 - val_loss: 0.0603\n",
      "Epoch 28/50\n",
      " 943/4970 [====>.........................] - ETA: 9:20 - loss: 0.0268"
     ]
    },
    {
     "name": "stderr",
     "output_type": "stream",
     "text": [
      "IOPub message rate exceeded.\n",
      "The notebook server will temporarily stop sending output\n",
      "to the client in order to avoid crashing it.\n",
      "To change this limit, set the config variable\n",
      "`--NotebookApp.iopub_msg_rate_limit`.\n",
      "\n",
      "Current values:\n",
      "NotebookApp.iopub_msg_rate_limit=1000.0 (msgs/sec)\n",
      "NotebookApp.rate_limit_window=3.0 (secs)\n",
      "\n"
     ]
    },
    {
     "name": "stdout",
     "output_type": "stream",
     "text": [
      "4704/4970 [===========================>..] - ETA: 37s - loss: 0.0279"
     ]
    },
    {
     "name": "stderr",
     "output_type": "stream",
     "text": [
      "IOPub message rate exceeded.\n",
      "The notebook server will temporarily stop sending output\n",
      "to the client in order to avoid crashing it.\n",
      "To change this limit, set the config variable\n",
      "`--NotebookApp.iopub_msg_rate_limit`.\n",
      "\n",
      "Current values:\n",
      "NotebookApp.iopub_msg_rate_limit=1000.0 (msgs/sec)\n",
      "NotebookApp.rate_limit_window=3.0 (secs)\n",
      "\n"
     ]
    },
    {
     "name": "stdout",
     "output_type": "stream",
     "text": [
      "3516/4970 [====================>.........] - ETA: 3:22 - loss: 0.0278"
     ]
    },
    {
     "name": "stderr",
     "output_type": "stream",
     "text": [
      "IOPub message rate exceeded.\n",
      "The notebook server will temporarily stop sending output\n",
      "to the client in order to avoid crashing it.\n",
      "To change this limit, set the config variable\n",
      "`--NotebookApp.iopub_msg_rate_limit`.\n",
      "\n",
      "Current values:\n",
      "NotebookApp.iopub_msg_rate_limit=1000.0 (msgs/sec)\n",
      "NotebookApp.rate_limit_window=3.0 (secs)\n",
      "\n"
     ]
    },
    {
     "name": "stdout",
     "output_type": "stream",
     "text": [
      "4970/4970 [==============================] - 814s 164ms/step - loss: 0.0270 - val_loss: 0.0552\n",
      "Epoch 33/50\n",
      "2370/4970 [=============>................] - ETA: 6:03 - loss: 0.0256"
     ]
    },
    {
     "name": "stderr",
     "output_type": "stream",
     "text": [
      "IOPub message rate exceeded.\n",
      "The notebook server will temporarily stop sending output\n",
      "to the client in order to avoid crashing it.\n",
      "To change this limit, set the config variable\n",
      "`--NotebookApp.iopub_msg_rate_limit`.\n",
      "\n",
      "Current values:\n",
      "NotebookApp.iopub_msg_rate_limit=1000.0 (msgs/sec)\n",
      "NotebookApp.rate_limit_window=3.0 (secs)\n",
      "\n"
     ]
    },
    {
     "name": "stdout",
     "output_type": "stream",
     "text": [
      "4970/4970 [==============================] - 814s 164ms/step - loss: 0.0264 - val_loss: 0.0554\n",
      "Epoch 35/50\n",
      " 242/4970 [>.............................] - ETA: 11:00 - loss: 0.0237"
     ]
    },
    {
     "name": "stderr",
     "output_type": "stream",
     "text": [
      "IOPub message rate exceeded.\n",
      "The notebook server will temporarily stop sending output\n",
      "to the client in order to avoid crashing it.\n",
      "To change this limit, set the config variable\n",
      "`--NotebookApp.iopub_msg_rate_limit`.\n",
      "\n",
      "Current values:\n",
      "NotebookApp.iopub_msg_rate_limit=1000.0 (msgs/sec)\n",
      "NotebookApp.rate_limit_window=3.0 (secs)\n",
      "\n"
     ]
    },
    {
     "name": "stdout",
     "output_type": "stream",
     "text": [
      "3633/4970 [====================>.........] - ETA: 3:06 - loss: 0.0250"
     ]
    },
    {
     "name": "stderr",
     "output_type": "stream",
     "text": [
      "IOPub message rate exceeded.\n",
      "The notebook server will temporarily stop sending output\n",
      "to the client in order to avoid crashing it.\n",
      "To change this limit, set the config variable\n",
      "`--NotebookApp.iopub_msg_rate_limit`.\n",
      "\n",
      "Current values:\n",
      "NotebookApp.iopub_msg_rate_limit=1000.0 (msgs/sec)\n",
      "NotebookApp.rate_limit_window=3.0 (secs)\n",
      "\n"
     ]
    },
    {
     "name": "stdout",
     "output_type": "stream",
     "text": [
      "4970/4970 [==============================] - 817s 164ms/step - loss: 0.0251 - val_loss: 0.0552\n",
      "Epoch 38/50\n",
      "2240/4970 [============>.................] - ETA: 6:22 - loss: 0.0240"
     ]
    },
    {
     "name": "stderr",
     "output_type": "stream",
     "text": [
      "IOPub message rate exceeded.\n",
      "The notebook server will temporarily stop sending output\n",
      "to the client in order to avoid crashing it.\n",
      "To change this limit, set the config variable\n",
      "`--NotebookApp.iopub_msg_rate_limit`.\n",
      "\n",
      "Current values:\n",
      "NotebookApp.iopub_msg_rate_limit=1000.0 (msgs/sec)\n",
      "NotebookApp.rate_limit_window=3.0 (secs)\n",
      "\n"
     ]
    },
    {
     "name": "stdout",
     "output_type": "stream",
     "text": [
      "4970/4970 [==============================] - 813s 164ms/step - loss: 0.0250 - val_loss: 0.0545\n",
      "Epoch 40/50\n",
      " 654/4970 [==>...........................] - ETA: 10:01 - loss: 0.0220"
     ]
    },
    {
     "name": "stderr",
     "output_type": "stream",
     "text": [
      "IOPub message rate exceeded.\n",
      "The notebook server will temporarily stop sending output\n",
      "to the client in order to avoid crashing it.\n",
      "To change this limit, set the config variable\n",
      "`--NotebookApp.iopub_msg_rate_limit`.\n",
      "\n",
      "Current values:\n",
      "NotebookApp.iopub_msg_rate_limit=1000.0 (msgs/sec)\n",
      "NotebookApp.rate_limit_window=3.0 (secs)\n",
      "\n"
     ]
    }
   ],
   "source": [
    "history = model.fit_generator(train_gen,\n",
    "                              steps_per_epoch=num_train_steps,\n",
    "                              epochs=NUM_EPOCHS,\n",
    "                              validation_data=val_gen,\n",
    "                              validation_steps=num_val_steps,\n",
    "                              callbacks = [save_epochs],\n",
    "                             # initial_epoch = 0\n",
    "                             )"
   ]
  },
  {
   "cell_type": "code",
   "execution_count": 130,
   "metadata": {},
   "outputs": [],
   "source": [
    "dataset = 'DATASET/'\n",
    "if not os.path.exists('trained_models/' + dataset):\n",
    "    os.makedirs('trained_models/' + dataset)\n",
    "model.save('trained_models/'+ dataset + 'full_siamese_128_lr_0.003_FC512_marg1_batch64_50ep.h5')"
   ]
  },
  {
   "cell_type": "markdown",
   "metadata": {},
   "source": [
    "# Evaluation of training\n",
    "Here we can evaluate how the network learns and whether it overfits or not."
   ]
  },
  {
   "cell_type": "code",
   "execution_count": 159,
   "metadata": {},
   "outputs": [
    {
     "data": {
      "image/png": "[encoded data removed]",
      "text/plain": [
       "<Figure size 504x504 with 1 Axes>"
      ]
     },
     "metadata": {},
     "output_type": "display_data"
    }
   ],
   "source": [
    "model_val_loss = history.history['val_loss']\n",
    "model_loss = history.history['loss']\n",
    "epochs = range(1,51)\n",
    "plt.style.use('ggplot')\n",
    "plt.figure(figsize=(7,7))\n",
    "plt.plot(epochs, model_val_loss, 'bo', label='Validation loss')\n",
    "plt.plot(epochs, model_loss, 'ro', label='Training loss')\n",
    "plt.xlabel('Epochs')\n",
    "plt.ylabel('Loss')\n",
    "plt.title('Loss for triplet network with 128*128 input and batch size 64')\n",
    "plt.legend()\n",
    "plt.savefig('train_loss.png')\n",
    "\n",
    "plt.show()"
   ]
  },
  {
   "cell_type": "code",
   "execution_count": 158,
   "metadata": {
    "scrolled": true
   },
   "outputs": [
    {
     "data": {
      "image/png": "[encoded data removed]",
      "text/plain": [
       "<Figure size 504x504 with 1 Axes>"
      ]
     },
     "metadata": {},
     "output_type": "display_data"
    }
   ],
   "source": [
    "model_val_loss = history.history['val_loss']\n",
    "model_loss = history.history['loss']\n",
    "epochs = range(1,51)\n",
    "plt.style.use('ggplot')\n",
    "plt.figure(figsize=(7,7))\n",
    "plt.plot(epochs, model_val_loss, 'bo', label='Validation loss')\n",
    "plt.plot(epochs, model_loss, 'ro', label='Training loss')\n",
    "plt.xlabel('Epochs')\n",
    "plt.ylabel('Loss')\n",
    "plt.title('Loss for triplet network with 128*128 input and batch size 64')\n",
    "plt.legend()\n",
    "\n",
    "plt.show()"
   ]
  }
 ],
 "metadata": {
  "celltoolbar": "Raw Cell Format",
  "kernelspec": {
   "display_name": "Python 3.5",
   "language": "python",
   "name": "thesis_project"
  },
  "language_info": {
   "codemirror_mode": {
    "name": "ipython",
    "version": 3
   },
   "file_extension": ".py",
   "mimetype": "text/x-python",
   "name": "python",
   "nbconvert_exporter": "python",
   "pygments_lexer": "ipython3",
   "version": "3.5.6"
  },
  "varInspector": {
   "cols": {
    "lenName": 16,
    "lenType": 16,
    "lenVar": 40
   },
   "kernels_config": {
    "python": {
     "delete_cmd_postfix": "",
     "delete_cmd_prefix": "del ",
     "library": "var_list.py",
     "varRefreshCmd": "print(var_dic_list())"
    },
    "r": {
     "delete_cmd_postfix": ") ",
     "delete_cmd_prefix": "rm(",
     "library": "var_list.r",
     "varRefreshCmd": "cat(var_dic_list()) "
    }
   },
   "oldHeight": 466,
   "position": {
    "height": "40px",
    "left": "1337px",
    "right": "-253px",
    "top": "120px",
    "width": "356px"
   },
   "types_to_exclude": [
    "module",
    "function",
    "builtin_function_or_method",
    "instance",
    "_Feature"
   ],
   "varInspector_section_display": "none",
   "window_display": false
  }
 },
 "nbformat": 4,
 "nbformat_minor": 2
}
